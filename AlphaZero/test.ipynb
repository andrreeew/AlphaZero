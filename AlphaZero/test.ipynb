{
 "cells": [
  {
   "cell_type": "code",
   "execution_count": 1,
   "metadata": {},
   "outputs": [],
   "source": [
    "a = {None:1, 'sd':2}\n",
    "a[None]\n",
    "\n",
    "import numpy as np\n"
   ]
  },
  {
   "cell_type": "markdown",
   "metadata": {},
   "source": []
  },
  {
   "cell_type": "code",
   "execution_count": 2,
   "metadata": {},
   "outputs": [
    {
     "name": "stdout",
     "output_type": "stream",
     "text": [
      "---\n"
     ]
    }
   ],
   "source": [
    "# np.random.choice([(4,2), (4,2), (4,2)], p=[1, 0, 0])\n",
    "# np.float_power(3, -1)\n",
    "# a = np.asarray([(3, 2), (5, 6)])\n",
    "# b, c = zip(*a)\n",
    "# c\n",
    "\n",
    "# for i in range(10, 1, -1):\n",
    "#     print(i)\n",
    "\n",
    "if(not []):\n",
    "    print('---')"
   ]
  },
  {
   "cell_type": "code",
   "execution_count": 3,
   "metadata": {},
   "outputs": [],
   "source": [
    "# a = np.zeros((4, 3))\n",
    "# a[(2, 2)]\n",
    "# from src_net import init_state\n",
    "# init_state(4)\n",
    "import torch\n",
    "# torch.Tensor(3.0)\n",
    "torch.pow(torch.tensor(3.0), 3.0)\n",
    "\n",
    "np.random.dirichlet(0.03*np.ones(10))\n",
    "torch.zeros((3, 3))\n",
    "\n",
    "with open(\"params4.json\",\"a\") as f:\n",
    "    f.write(str(torch.tensor(4).item())+'\\n')"
   ]
  },
  {
   "cell_type": "code",
   "execution_count": 4,
   "metadata": {},
   "outputs": [
    {
     "name": "stdout",
     "output_type": "stream",
     "text": [
      "[[0.015169955790042877, 0.014842643402516842, 0.016141660511493683, 0.01670040749013424, 0.01561529841274023, 0.014226074330508709, 0.01476130448281765, 0.014860845170915127], [0.015136303380131721, 0.015758289024233818, 0.015163810923695564, 0.015802253037691116, 0.01604594849050045, 0.015026271343231201, 0.014429066330194473, 0.016982225701212883], [0.015676727518439293, 0.015523158945143223, 0.014912893064320087, 0.014953544363379478, 0.014535271562635899, 0.01681024394929409, 0.01689216122031212, 0.01452496089041233], [0.015299624763429165, 0.01550874300301075, 0.015805905684828758, 0.016891825944185257, 0.016263632103800774, 0.01616855338215828, 0.01685699075460434, 0.014655454084277153], [0.01382953766733408, 0.016543084755539894, 0.014214664697647095, 0.016669277101755142, 0.015839189291000366, 0.017730005085468292, 0.014657522551715374, 0.015232606790959835], [0.015247445553541183, 0.016051823273301125, 0.015018974430859089, 0.01606188714504242, 0.017657287418842316, 0.01572386361658573, 0.015430178493261337, 0.01472589559853077], [0.015354069881141186, 0.015205725096166134, 0.015163335017859936, 0.016399618238210678, 0.015613234601914883, 0.015327933244407177, 0.014859037473797798, 0.01706002652645111], [0.016382217407226562, 0.014704523608088493, 0.015661785379052162, 0.01624186709523201, 0.015791667625308037, 0.015476993285119534, 0.01677435077726841, 0.015408343635499477]]\n"
     ]
    },
    {
     "name": "stderr",
     "output_type": "stream",
     "text": [
      "d:\\CodeConfiguration\\Anaconda3\\envs\\CS321\\lib\\site-packages\\torch\\nn\\modules\\container.py:204: UserWarning: Implicit dimension choice for softmax has been deprecated. Change the call to include dim=X as an argument.\n",
      "  input = module(input)\n"
     ]
    }
   ],
   "source": [
    "from net import PolicyValueNet\n",
    "import torch\n",
    "\n",
    "net = PolicyValueNet()\n",
    "X = torch.ones((4, 8, 8))\n",
    "y = net(X)\n",
    "print(y[0].tolist())"
   ]
  },
  {
   "cell_type": "code",
   "execution_count": 5,
   "metadata": {},
   "outputs": [
    {
     "name": "stdout",
     "output_type": "stream",
     "text": [
      "None PolicyValueNet(\n",
      "  (conv_layer): Sequential(\n",
      "    (0): Conv2d(4, 32, kernel_size=(3, 3), stride=(1, 1), padding=(1, 1))\n",
      "    (1): ReLU()\n",
      "  )\n",
      "  (policy_layer): Sequential(\n",
      "    (0): Conv2d(32, 1, kernel_size=(1, 1), stride=(1, 1))\n",
      "    (1): ReLU()\n",
      "    (2): Flatten(start_dim=1, end_dim=-1)\n",
      "    (3): Linear(in_features=64, out_features=128, bias=True)\n",
      "    (4): ReLU()\n",
      "    (5): Linear(in_features=128, out_features=64, bias=True)\n",
      "    (6): Softmax(dim=None)\n",
      "  )\n",
      "  (value_layer): Sequential(\n",
      "    (0): Conv2d(32, 1, kernel_size=(1, 1), stride=(1, 1))\n",
      "    (1): ReLU()\n",
      "    (2): Flatten(start_dim=1, end_dim=-1)\n",
      "    (3): Linear(in_features=64, out_features=64, bias=True)\n",
      "    (4): ReLU()\n",
      "    (5): Linear(in_features=64, out_features=1, bias=True)\n",
      "    (6): Tanh()\n",
      "  )\n",
      ")\n"
     ]
    }
   ],
   "source": [
    "from mcts import MCT\n",
    "\n",
    "mct = MCT(policy_value_fn=net)\n",
    "# print(net, mct.policy_value_fn)\n",
    "net = None\n",
    "print(net, mct.policy_value_fn)"
   ]
  },
  {
   "cell_type": "code",
   "execution_count": 6,
   "metadata": {},
   "outputs": [
    {
     "data": {
      "text/plain": [
       "array([[ 0,  1,  2,  3,  4],\n",
       "       [ 5,  6,  7,  8,  9],\n",
       "       [10, 11, 12, 13, 14],\n",
       "       [15, 16, 17, 18, 19],\n",
       "       [20, 21, 22, 23, 24]])"
      ]
     },
     "execution_count": 6,
     "metadata": {},
     "output_type": "execute_result"
    }
   ],
   "source": [
    "a = np.arange(25).reshape(5, 5)\n",
    "np.rot90(a, 4, (-2, -1))\n",
    "np.flip(a, axis=(-1))\n",
    "a"
   ]
  },
  {
   "cell_type": "code",
   "execution_count": 7,
   "metadata": {},
   "outputs": [
    {
     "data": {
      "text/plain": [
       "array([[[0., 0., 0., 0., 0., 0., 0., 0.],\n",
       "        [0., 0., 0., 0., 0., 0., 0., 0.],\n",
       "        [0., 0., 0., 0., 0., 0., 0., 0.],\n",
       "        [0., 0., 0., 0., 1., 0., 0., 0.],\n",
       "        [0., 0., 0., 1., 0., 0., 0., 0.],\n",
       "        [0., 0., 0., 0., 0., 0., 0., 0.],\n",
       "        [0., 0., 0., 0., 0., 0., 0., 0.],\n",
       "        [0., 0., 0., 0., 0., 0., 0., 0.]],\n",
       "\n",
       "       [[0., 0., 0., 0., 0., 0., 0., 0.],\n",
       "        [0., 0., 0., 0., 0., 0., 0., 0.],\n",
       "        [0., 0., 0., 0., 0., 0., 0., 0.],\n",
       "        [0., 0., 0., 1., 0., 0., 0., 0.],\n",
       "        [0., 0., 0., 0., 1., 0., 0., 0.],\n",
       "        [0., 0., 0., 0., 0., 0., 0., 0.],\n",
       "        [0., 0., 0., 0., 0., 0., 0., 0.],\n",
       "        [0., 0., 0., 0., 0., 0., 0., 0.]],\n",
       "\n",
       "       [[0., 0., 0., 0., 0., 0., 0., 0.],\n",
       "        [0., 0., 0., 0., 0., 0., 0., 0.],\n",
       "        [0., 0., 0., 0., 0., 0., 0., 0.],\n",
       "        [0., 0., 0., 0., 0., 0., 0., 0.],\n",
       "        [0., 0., 0., 0., 0., 0., 0., 0.],\n",
       "        [0., 0., 0., 0., 0., 0., 0., 0.],\n",
       "        [0., 0., 0., 0., 0., 0., 0., 0.],\n",
       "        [0., 0., 0., 0., 0., 0., 0., 0.]],\n",
       "\n",
       "       [[0., 0., 0., 0., 0., 0., 0., 0.],\n",
       "        [0., 0., 0., 0., 0., 0., 0., 0.],\n",
       "        [0., 0., 0., 0., 0., 0., 0., 0.],\n",
       "        [0., 0., 0., 0., 0., 0., 0., 0.],\n",
       "        [0., 0., 0., 0., 0., 0., 0., 0.],\n",
       "        [0., 0., 0., 0., 0., 0., 0., 0.],\n",
       "        [0., 0., 0., 0., 0., 0., 0., 0.],\n",
       "        [0., 0., 0., 0., 0., 0., 0., 0.]],\n",
       "\n",
       "       [[1., 1., 1., 1., 1., 1., 1., 1.],\n",
       "        [1., 1., 1., 1., 1., 1., 1., 1.],\n",
       "        [1., 1., 1., 1., 1., 1., 1., 1.],\n",
       "        [1., 1., 1., 1., 1., 1., 1., 1.],\n",
       "        [1., 1., 1., 1., 1., 1., 1., 1.],\n",
       "        [1., 1., 1., 1., 1., 1., 1., 1.],\n",
       "        [1., 1., 1., 1., 1., 1., 1., 1.],\n",
       "        [1., 1., 1., 1., 1., 1., 1., 1.]]])"
      ]
     },
     "execution_count": 7,
     "metadata": {},
     "output_type": "execute_result"
    }
   ],
   "source": [
    "from src_net import init_state\n",
    "init_state()"
   ]
  },
  {
   "cell_type": "code",
   "execution_count": 55,
   "metadata": {},
   "outputs": [
    {
     "name": "stdout",
     "output_type": "stream",
     "text": [
      "[9.22148249e-37 7.36383097e-51 9.89243462e-01 2.40307689e-77\n",
      " 1.17406002e-28 4.75645228e-16 9.58451246e-71 8.92983926e-23\n",
      " 9.06451090e-59 1.07565379e-02]\n"
     ]
    }
   ],
   "source": [
    "import numpy as np\n",
    "\n",
    "a = np.arange(40).reshape(4, 2, 5)\n",
    "np.sum(a, axis=(-2, -1))\n",
    "print(np.random.dirichlet(0.01*np.ones(10)))"
   ]
  }
 ],
 "metadata": {
  "kernelspec": {
   "display_name": "CS321",
   "language": "python",
   "name": "python3"
  },
  "language_info": {
   "codemirror_mode": {
    "name": "ipython",
    "version": 3
   },
   "file_extension": ".py",
   "mimetype": "text/x-python",
   "name": "python",
   "nbconvert_exporter": "python",
   "pygments_lexer": "ipython3",
   "version": "3.9.13"
  },
  "orig_nbformat": 4,
  "vscode": {
   "interpreter": {
    "hash": "798e7a250d91faa5167978c29dc4d749c5ae494daaa4d2a87c2da3edb2bb892e"
   }
  }
 },
 "nbformat": 4,
 "nbformat_minor": 2
}
