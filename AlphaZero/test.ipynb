{
 "cells": [
  {
   "cell_type": "code",
   "execution_count": 2,
   "metadata": {},
   "outputs": [],
   "source": [
    "a = {None:1, 'sd':2}\n",
    "a[None]\n",
    "\n",
    "import numpy as np\n"
   ]
  },
  {
   "cell_type": "markdown",
   "metadata": {},
   "source": []
  },
  {
   "cell_type": "code",
   "execution_count": 3,
   "metadata": {},
   "outputs": [
    {
     "name": "stdout",
     "output_type": "stream",
     "text": [
      "---\n"
     ]
    }
   ],
   "source": [
    "# np.random.choice([(4,2), (4,2), (4,2)], p=[1, 0, 0])\n",
    "# np.float_power(3, -1)\n",
    "# a = np.asarray([(3, 2), (5, 6)])\n",
    "# b, c = zip(*a)\n",
    "# c\n",
    "\n",
    "# for i in range(10, 1, -1):\n",
    "#     print(i)\n",
    "\n",
    "if(not []):\n",
    "    print('---')"
   ]
  },
  {
   "cell_type": "code",
   "execution_count": 19,
   "metadata": {},
   "outputs": [],
   "source": [
    "# a = np.zeros((4, 3))\n",
    "# a[(2, 2)]\n",
    "# from src_net import init_state\n",
    "# init_state(4)\n",
    "import torch\n",
    "# torch.Tensor(3.0)\n",
    "torch.pow(torch.tensor(3.0), 3.0)\n",
    "\n",
    "np.random.dirichlet(0.03*np.ones(10))\n",
    "torch.zeros((3, 3))\n",
    "\n",
    "with open(\"params4.json\",\"a\") as f:\n",
    "    f.write(str(torch.tensor(4).item())+'\\n')"
   ]
  }
 ],
 "metadata": {
  "kernelspec": {
   "display_name": "CS321",
   "language": "python",
   "name": "python3"
  },
  "language_info": {
   "codemirror_mode": {
    "name": "ipython",
    "version": 3
   },
   "file_extension": ".py",
   "mimetype": "text/x-python",
   "name": "python",
   "nbconvert_exporter": "python",
   "pygments_lexer": "ipython3",
   "version": "3.9.13"
  },
  "orig_nbformat": 4,
  "vscode": {
   "interpreter": {
    "hash": "798e7a250d91faa5167978c29dc4d749c5ae494daaa4d2a87c2da3edb2bb892e"
   }
  }
 },
 "nbformat": 4,
 "nbformat_minor": 2
}
