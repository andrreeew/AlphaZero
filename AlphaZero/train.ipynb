{
 "cells": [
  {
   "cell_type": "code",
   "execution_count": 1,
   "metadata": {},
   "outputs": [],
   "source": [
    "import torch\n",
    "import torch.nn as nn\n",
    "from torch.nn import functional as F\n",
    "import numpy as np\n",
    "import random\n",
    "from mcts import MCT, Node\n",
    "from net import PolicyValueNet\n",
    "from src_net import init_state\n",
    "from collections import deque"
   ]
  },
  {
   "cell_type": "code",
   "execution_count": 2,
   "metadata": {},
   "outputs": [],
   "source": [
    "CHESSBOARD_SIZE = 6"
   ]
  },
  {
   "cell_type": "code",
   "execution_count": 3,
   "metadata": {},
   "outputs": [],
   "source": [
    "def preprocess_data(data):\n",
    "    for i in range(len(data)):\n",
    "        actions, probs = data[i][1]\n",
    "        action_prob = np.zeros((CHESSBOARD_SIZE, CHESSBOARD_SIZE), dtype=float)\n",
    "        for j in range(len(actions)):\n",
    "            action_prob[actions[j]] = probs[j]\n",
    "        data[i][1] = action_prob\n",
    "\n",
    "    augment_data = []\n",
    "    for state, action_prob, v in data:\n",
    "        for i in [1, 2, 3, 4]:\n",
    "            equal_state = np.rot90(state, i, axes=(-2,-1))\n",
    "            equal_action_prob = np.rot90(action_prob, i, axes=(-2, -1))\n",
    "\n",
    "            augment_data.append([equal_state, equal_action_prob, v])\n",
    "            augment_data.append([np.flip(equal_state, axis=(-1)), np.flip(equal_action_prob, axis=(-1)), v])        \n",
    "    return augment_data"
   ]
  },
  {
   "cell_type": "code",
   "execution_count": 4,
   "metadata": {},
   "outputs": [],
   "source": [
    "def train(net, loss, updater, data_buffer, batch_size, num_epochs):\n",
    "    train_data = random.sample(data_buffer, batch_size)\n",
    "    X = torch.tensor([data[0] for data in train_data]).float()\n",
    "    y = (torch.tensor([data[1] for data in train_data]).float(), \n",
    "            torch.tensor([data[2] for data in train_data]).float())\n",
    "\n",
    "    for epoch in range(num_epochs):\n",
    "        y_pred = net(X)\n",
    "        policy_loss, value_loss = loss(y_pred, y)\n",
    "        l = policy_loss+value_loss\n",
    "        updater.zero_grad()\n",
    "        l.mean().backward()\n",
    "        updater.step()\n",
    "\n",
    "    return policy_loss.mean().item(), value_loss.mean().item() "
   ]
  },
  {
   "cell_type": "code",
   "execution_count": 5,
   "metadata": {},
   "outputs": [],
   "source": [
    "class PolicyValueLoss(nn.Module):\n",
    "    def __init__(self):\n",
    "        super().__init__()\n",
    "        self.policy_loss = nn.CrossEntropyLoss(reduction='none')\n",
    "        self.value_loss = nn.MSELoss(reduction='none')\n",
    "    \n",
    "    def forward(self, y_pred, y):\n",
    "        batch_size = y_pred[0].shape[0]\n",
    "        policy_loss = self.policy_loss(y_pred[0].reshape(batch_size, -1), y[0].reshape(batch_size, -1))\n",
    "        value_loss = self.value_loss(y_pred[1], y[1])\n",
    "        return policy_loss, value_loss"
   ]
  },
  {
   "cell_type": "code",
   "execution_count": 6,
   "metadata": {},
   "outputs": [],
   "source": [
    "buffer_size = 20000\n",
    "batch_size = 1024\n",
    "num_epochs = 5\n",
    "num_games = 1\n",
    "\n",
    "data_buffer = deque(maxlen=buffer_size)\n",
    "\n",
    "net = PolicyValueNet(CHESSBOARD_SIZE)\n",
    "policy_value_loss = PolicyValueLoss()\n",
    "\n",
    "cnt = 0"
   ]
  },
  {
   "cell_type": "code",
   "execution_count": 7,
   "metadata": {},
   "outputs": [
    {
     "name": "stderr",
     "output_type": "stream",
     "text": [
      "d:\\CodeConfiguration\\Anaconda3\\envs\\CS321\\lib\\site-packages\\torch\\nn\\modules\\container.py:204: UserWarning: Implicit dimension choice for softmax has been deprecated. Change the call to include dim=X as an argument.\n",
      "  input = module(input)\n"
     ]
    },
    {
     "name": "stdout",
     "output_type": "stream",
     "text": [
      "1 32\n",
      "2 31\n"
     ]
    }
   ],
   "source": [
    "while(True):\n",
    "    cnt += 1\n",
    "    mct = MCT(root=Node(state_now=init_state(CHESSBOARD_SIZE)), policy_value_fn=net)\n",
    "\n",
    "    data = []\n",
    "    for _ in range(num_games):\n",
    "        data.extend(mct.self_play(num=300))\n",
    "    data_buffer.extend(preprocess_data(data))\n",
    "    \n",
    "    print(cnt, len(data))\n",
    "    if(len(data_buffer)>=batch_size):\n",
    "        updater = torch.optim.Adam(net.parameters(), lr=0.0075, weight_decay=1e-4)\n",
    "        # updater = torch.optim.SGD(net.parameters(), lr=0.0001, momentum=0.9, weight_decay=1e-4)\n",
    "        policy_loss, value_loss = train(net, policy_value_loss, updater, data_buffer, batch_size, num_epochs)\n",
    "        print('loss:', policy_loss+value_loss, 'entropy_loss:', policy_loss)\n",
    "        "
   ]
  },
  {
   "cell_type": "code",
   "execution_count": null,
   "metadata": {},
   "outputs": [],
   "source": [
    "torch.save(net.state_dict(), 'reversi'+str(CHESSBOARD_SIZE)+'.params')"
   ]
  }
 ],
 "metadata": {
  "kernelspec": {
   "display_name": "CS321",
   "language": "python",
   "name": "python3"
  },
  "language_info": {
   "codemirror_mode": {
    "name": "ipython",
    "version": 3
   },
   "file_extension": ".py",
   "mimetype": "text/x-python",
   "name": "python",
   "nbconvert_exporter": "python",
   "pygments_lexer": "ipython3",
   "version": "3.9.13"
  },
  "orig_nbformat": 4,
  "vscode": {
   "interpreter": {
    "hash": "798e7a250d91faa5167978c29dc4d749c5ae494daaa4d2a87c2da3edb2bb892e"
   }
  }
 },
 "nbformat": 4,
 "nbformat_minor": 2
}
