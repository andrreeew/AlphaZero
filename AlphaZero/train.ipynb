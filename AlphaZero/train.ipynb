{
 "cells": [
  {
   "cell_type": "code",
   "execution_count": 1,
   "metadata": {},
   "outputs": [],
   "source": [
    "import torch\n",
    "import torch.nn as nn\n",
    "from torch.nn import functional as F\n",
    "import numpy as np\n",
    "import random\n",
    "from mcts import MCT, Node\n",
    "from net import PolicyValueNet\n",
    "from src_net import init_state\n",
    "from collections import deque"
   ]
  },
  {
   "cell_type": "code",
   "execution_count": 2,
   "metadata": {},
   "outputs": [],
   "source": [
    "CHESSBOARD_SIZE = 6"
   ]
  },
  {
   "cell_type": "code",
   "execution_count": 3,
   "metadata": {},
   "outputs": [],
   "source": [
    "def preprocess_data(data):\n",
    "    for i in range(len(data)):\n",
    "        actions, probs = data[i][1]\n",
    "        action_prob = np.zeros((CHESSBOARD_SIZE, CHESSBOARD_SIZE), dtype=float)\n",
    "        for j in range(len(actions)):\n",
    "            action_prob[actions[j]] = probs[j]\n",
    "        data[i][1] = action_prob\n",
    "\n",
    "    augment_data = []\n",
    "    for state, action_prob, v in data:\n",
    "        for i in [1, 2, 3, 4]:\n",
    "            equal_state = np.rot90(state, i, axes=(-2,-1))\n",
    "            equal_action_prob = np.rot90(action_prob, i, axes=(-2, -1))\n",
    "\n",
    "            augment_data.append([equal_state, equal_action_prob, v])\n",
    "            augment_data.append([np.flip(equal_state, axis=(-1)), np.flip(equal_action_prob, axis=(-1)), v])        \n",
    "    return augment_data"
   ]
  },
  {
   "cell_type": "code",
   "execution_count": 4,
   "metadata": {},
   "outputs": [],
   "source": [
    "from torch.utils.data import Dataset, DataLoader\n",
    "from d2l import torch as d2l\n",
    "\n",
    "class MyDataset(Dataset):\n",
    "    def __init__(self, data):\n",
    "        self.X = torch.tensor(np.array([d[0] for d in data])).float()\n",
    "        self.y = [(torch.tensor(np.array(d[1])).float(), torch.tensor(np.array(d[2])).float()) for d in data]\n",
    "\n",
    "    def __getitem__(self, index):\n",
    "        return (self.X[index], self.y[index])\n",
    "\n",
    "    def __len__(self):\n",
    "        return len(self.y)\n",
    "    \n",
    "\n",
    "\n",
    "def train_epoch(net, train_iter, loss, updater):\n",
    "    net.train()\n",
    "\n",
    "    metric = d2l.Accumulator(3)\n",
    "    for X, y in train_iter:\n",
    "        y_pred = net(X)\n",
    "        policy_loss, value_loss = loss(y_pred, y)\n",
    "        l = policy_loss+value_loss\n",
    "        updater.zero_grad()\n",
    "        l.mean().backward()\n",
    "        updater.step()\n",
    "        metric.add(float(policy_loss.sum()), float(value_loss.sum()), y_pred[0].shape[0])\n",
    "\n",
    "    return metric[0]/metric[2], metric[1]/metric[2]\n",
    "\n",
    "\n",
    "def train(net, loss, updater, data, batch_size, num_epochs):\n",
    "    train_dataset = MyDataset(data)\n",
    "    train_iter = DataLoader(dataset=train_dataset, batch_size=batch_size, shuffle=True)\n",
    "\n",
    "    net.train()\n",
    "\n",
    "    for epoch in range(num_epochs):\n",
    "        policy_loss, value_loss = train_epoch(net, train_iter, loss, updater)\n",
    "      \n",
    "    return policy_loss, value_loss"
   ]
  },
  {
   "cell_type": "code",
   "execution_count": 5,
   "metadata": {},
   "outputs": [],
   "source": [
    "class PolicyValueLoss(nn.Module):\n",
    "    def __init__(self):\n",
    "        super().__init__()\n",
    "        self.policy_loss = nn.CrossEntropyLoss(reduction='none')\n",
    "        self.value_loss = nn.MSELoss(reduction='none')\n",
    "    \n",
    "    def forward(self, y_pred, y):\n",
    "        batch_size = y_pred[0].shape[0]\n",
    "        policy_loss = self.policy_loss(y_pred[0].reshape(batch_size, -1), y[0].reshape(batch_size, -1))\n",
    "        value_loss = self.value_loss(y_pred[1], y[1])\n",
    "        return policy_loss, value_loss"
   ]
  },
  {
   "cell_type": "code",
   "execution_count": 6,
   "metadata": {},
   "outputs": [],
   "source": [
    "buffer_size = 12000\n",
    "batch_size = 512\n",
    "num_epochs = 2\n",
    "num_games = 40\n",
    "\n",
    "lr = 2e-3\n",
    "params = 'reversi'+str(CHESSBOARD_SIZE)+'.params'\n",
    "\n",
    "data_buffer = deque(maxlen=buffer_size)\n",
    "net = PolicyValueNet(CHESSBOARD_SIZE)\n",
    "net.load_state_dict(torch.load(params))\n",
    "policy_value_loss = PolicyValueLoss()\n",
    "\n",
    "cnt = 0"
   ]
  },
  {
   "cell_type": "code",
   "execution_count": 7,
   "metadata": {},
   "outputs": [
    {
     "name": "stderr",
     "output_type": "stream",
     "text": [
      "d:\\CodeConfiguration\\Anaconda3\\envs\\CS321\\lib\\site-packages\\torch\\nn\\modules\\container.py:204: UserWarning: Implicit dimension choice for softmax has been deprecated. Change the call to include dim=X as an argument.\n",
      "  input = module(input)\n"
     ]
    }
   ],
   "source": [
    "while(True):\n",
    "    cnt += 1\n",
    "    mct = MCT(root=Node(state_now=init_state(CHESSBOARD_SIZE)), policy_value_fn=net)\n",
    "\n",
    "    for _ in range(num_games):\n",
    "        data_buffer.extend(preprocess_data(mct.self_play(num=400)))\n",
    "        mct.root = Node(state_now=init_state(CHESSBOARD_SIZE))\n",
    "\n",
    "    updater = torch.optim.Adam(net.parameters(), lr=lr, weight_decay=1e-4)\n",
    "    # updater = torch.optim.SGD(net.parameters(), lr=lr, momentum=0.9, weight_decay=1e-4)\n",
    "    policy_loss, value_loss = train(net, policy_value_loss, updater, data_buffer, batch_size, num_epochs)\n",
    "\n",
    "    print('step:', cnt, 'loss:', policy_loss+value_loss, 'entropy_loss:', policy_loss)\n",
    "        "
   ]
  },
  {
   "cell_type": "code",
   "execution_count": null,
   "metadata": {},
   "outputs": [],
   "source": [
    "torch.save(net.state_dict(), 'reversi'+str(CHESSBOARD_SIZE)+'.params')"
   ]
  }
 ],
 "metadata": {
  "kernelspec": {
   "display_name": "CS321",
   "language": "python",
   "name": "python3"
  },
  "language_info": {
   "codemirror_mode": {
    "name": "ipython",
    "version": 3
   },
   "file_extension": ".py",
   "mimetype": "text/x-python",
   "name": "python",
   "nbconvert_exporter": "python",
   "pygments_lexer": "ipython3",
   "version": "3.9.13"
  },
  "orig_nbformat": 4,
  "vscode": {
   "interpreter": {
    "hash": "798e7a250d91faa5167978c29dc4d749c5ae494daaa4d2a87c2da3edb2bb892e"
   }
  }
 },
 "nbformat": 4,
 "nbformat_minor": 2
}
