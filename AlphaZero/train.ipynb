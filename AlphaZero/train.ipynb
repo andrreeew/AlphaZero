{
 "cells": [
  {
   "cell_type": "code",
   "execution_count": 1,
   "metadata": {},
   "outputs": [],
   "source": [
    "import torch\n",
    "import torch.nn as nn\n",
    "from torch.nn import functional as F\n",
    "import numpy as np\n",
    "import random\n",
    "from mcts import MCT, Node\n",
    "from net import PolicyValueNet\n",
    "from src_net import init_state\n",
    "from collections import deque"
   ]
  },
  {
   "cell_type": "code",
   "execution_count": 2,
   "metadata": {},
   "outputs": [],
   "source": [
    "CHESSBOARD_SIZE = 6"
   ]
  },
  {
   "cell_type": "code",
   "execution_count": 3,
   "metadata": {},
   "outputs": [],
   "source": [
    "def preprocess_data(data):\n",
    "    for i in range(len(data)):\n",
    "        actions, probs = data[i][1]\n",
    "        action_prob = np.zeros((CHESSBOARD_SIZE, CHESSBOARD_SIZE), dtype=float)\n",
    "        for j in range(len(actions)):\n",
    "            action_prob[actions[j]] = probs[j]\n",
    "        data[i][1] = action_prob\n",
    "\n",
    "    augment_data = []\n",
    "    for state, action_prob, v in data:\n",
    "        for i in [1, 2, 3, 4]:\n",
    "            equal_state = np.rot90(state, i, axes=(-2,-1))\n",
    "            equal_action_prob = np.rot90(action_prob, i, axes=(-2, -1))\n",
    "\n",
    "            augment_data.append([equal_state, equal_action_prob, v])\n",
    "            augment_data.append([np.flip(equal_state, axis=(-1)), np.flip(equal_action_prob, axis=(-1)), v])        \n",
    "    return augment_data"
   ]
  },
  {
   "cell_type": "code",
   "execution_count": 4,
   "metadata": {},
   "outputs": [],
   "source": [
    "def train(net, loss, updater, data_buffer, batch_size, num_epochs):\n",
    "    train_data = random.sample(data_buffer, batch_size)\n",
    "    X = torch.tensor(np.array([data[0] for data in train_data])).float()\n",
    "    y = (torch.tensor(np.array([data[1] for data in train_data])).float(), \n",
    "            torch.tensor(np.array([data[2] for data in train_data])).float())\n",
    "\n",
    "    old_action_prob = net(X)[0].detach().numpy()\n",
    "    for epoch in range(num_epochs):\n",
    "        y_pred = net(X)\n",
    "        policy_loss, value_loss = loss(y_pred, y)\n",
    "        l = policy_loss+value_loss\n",
    "        updater.zero_grad()\n",
    "        l.mean().backward()\n",
    "        updater.step()\n",
    "    new_action_prob = net(X)[0].detach().numpy()\n",
    "    kl = np.mean(np.sum(old_action_prob*(np.log(old_action_prob+1e-10)-np.log(new_action_prob+1e-10))\n",
    "                            ,axis=(-2, -1)))\n",
    "\n",
    "\n",
    "    return policy_loss.mean().item(), value_loss.mean().item(), kl"
   ]
  },
  {
   "cell_type": "code",
   "execution_count": 5,
   "metadata": {},
   "outputs": [],
   "source": [
    "class PolicyValueLoss(nn.Module):\n",
    "    def __init__(self):\n",
    "        super().__init__()\n",
    "        self.policy_loss = nn.CrossEntropyLoss(reduction='none')\n",
    "        self.value_loss = nn.MSELoss(reduction='none')\n",
    "    \n",
    "    def forward(self, y_pred, y):\n",
    "        batch_size = y_pred[0].shape[0]\n",
    "        policy_loss = self.policy_loss(y_pred[0].reshape(batch_size, -1), y[0].reshape(batch_size, -1))\n",
    "        value_loss = self.value_loss(y_pred[1], y[1])\n",
    "        return policy_loss, value_loss"
   ]
  },
  {
   "cell_type": "code",
   "execution_count": 6,
   "metadata": {},
   "outputs": [],
   "source": [
    "buffer_size = 20000\n",
    "batch_size = 1024\n",
    "num_epochs = 5\n",
    "num_games = 1\n",
    "\n",
    "lr = 2e-3\n",
    "lr_mul = 1.0\n",
    "kl_targ = 0.02\n",
    "params = 'reversi'+str(CHESSBOARD_SIZE)+'.params'\n",
    "\n",
    "data_buffer = deque(maxlen=buffer_size)\n",
    "\n",
    "net = PolicyValueNet(CHESSBOARD_SIZE)\n",
    "net.load_state_dict(torch.load(params))\n",
    "policy_value_loss = PolicyValueLoss()\n",
    "# updater = torch.optim.SGD(net.parameters(), lr=0.2, momentum=0.9, weight_decay=1e-4)\n",
    "\n",
    "\n",
    "cnt = 0"
   ]
  },
  {
   "cell_type": "code",
   "execution_count": 10,
   "metadata": {},
   "outputs": [],
   "source": [
    "lr_mul = 0.5"
   ]
  },
  {
   "cell_type": "code",
   "execution_count": 11,
   "metadata": {},
   "outputs": [
    {
     "name": "stdout",
     "output_type": "stream",
     "text": [
      "42 32\n",
      "loss: 3.3689829111099243 entropy_loss: 3.1398017406463623 lr_mul: 0.5\n",
      "43 32\n",
      "loss: 3.4024939239025116 entropy_loss: 3.1712169647216797 lr_mul: 0.5\n",
      "44 32\n",
      "loss: 3.378569111227989 entropy_loss: 3.1535322666168213 lr_mul: 0.5\n",
      "45 32\n",
      "loss: 3.3367519676685333 entropy_loss: 3.118351459503174 lr_mul: 0.5\n",
      "46 32\n",
      "loss: 3.324190080165863 entropy_loss: 3.117675304412842 lr_mul: 0.5\n",
      "47 32\n",
      "loss: 3.342716693878174 entropy_loss: 3.1409783363342285 lr_mul: 0.5\n",
      "48 32\n",
      "loss: 3.3460350334644318 entropy_loss: 3.1309895515441895 lr_mul: 0.5\n",
      "49 32\n",
      "loss: 3.3589348047971725 entropy_loss: 3.144484519958496 lr_mul: 0.5\n",
      "50 32\n",
      "loss: 3.405283272266388 entropy_loss: 3.159745454788208 lr_mul: 0.5\n",
      "51 32\n",
      "loss: 3.3643130362033844 entropy_loss: 3.1395933628082275 lr_mul: 0.5\n",
      "52 32\n",
      "loss: 3.3407169729471207 entropy_loss: 3.128758430480957 lr_mul: 0.5\n",
      "53 32\n",
      "loss: 3.3318770825862885 entropy_loss: 3.125093936920166 lr_mul: 0.5\n",
      "54 32\n",
      "loss: 3.322102725505829 entropy_loss: 3.12302565574646 lr_mul: 0.5\n"
     ]
    }
   ],
   "source": [
    "while(True):\n",
    "    cnt += 1\n",
    "    mct = MCT(root=Node(state_now=init_state(CHESSBOARD_SIZE)), policy_value_fn=net)\n",
    "\n",
    "    data = []\n",
    "    for _ in range(num_games):\n",
    "        data.extend(mct.self_play(num=1000))\n",
    "    data_buffer.extend(preprocess_data(data))\n",
    "    \n",
    "    print(cnt, len(data))\n",
    "    if(len(data_buffer)>=batch_size):\n",
    "        updater = torch.optim.Adam(net.parameters(), lr=lr*lr_mul, weight_decay=1e-4)\n",
    "        policy_loss, value_loss, kl = train(net, policy_value_loss, updater, \n",
    "                                                data_buffer, batch_size, num_epochs)\n",
    "\n",
    "        # if(kl>2*kl_targ and lr_mul>0.1):\n",
    "        #     lr_mul /= 1.5\n",
    "        # if(kl<kl_targ/2 and lr_mul<10):\n",
    "        #     lr_mul *= 1.5\n",
    "            \n",
    "        print('loss:', policy_loss+value_loss, 'entropy_loss:', policy_loss, 'lr_mul:', lr_mul)\n",
    "        "
   ]
  },
  {
   "cell_type": "code",
   "execution_count": null,
   "metadata": {},
   "outputs": [],
   "source": [
    "torch.save(net.state_dict(), 'reversi'+str(CHESSBOARD_SIZE)+'.params')"
   ]
  }
 ],
 "metadata": {
  "kernelspec": {
   "display_name": "CS321",
   "language": "python",
   "name": "python3"
  },
  "language_info": {
   "codemirror_mode": {
    "name": "ipython",
    "version": 3
   },
   "file_extension": ".py",
   "mimetype": "text/x-python",
   "name": "python",
   "nbconvert_exporter": "python",
   "pygments_lexer": "ipython3",
   "version": "3.9.13"
  },
  "orig_nbformat": 4,
  "vscode": {
   "interpreter": {
    "hash": "798e7a250d91faa5167978c29dc4d749c5ae494daaa4d2a87c2da3edb2bb892e"
   }
  }
 },
 "nbformat": 4,
 "nbformat_minor": 2
}
