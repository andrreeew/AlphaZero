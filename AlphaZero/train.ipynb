{
 "cells": [
  {
   "cell_type": "code",
   "execution_count": 1,
   "metadata": {},
   "outputs": [],
   "source": [
    "import torch\n",
    "import torch.nn as nn\n",
    "from torch.nn import functional as F\n",
    "import numpy as np\n",
    "from mcts import MCT, Node\n",
    "from net import PolicyValueNet\n",
    "from src_net import init_state"
   ]
  },
  {
   "cell_type": "code",
   "execution_count": 2,
   "metadata": {},
   "outputs": [],
   "source": [
    "CHESSBOARD_SIZE = 6\n",
    "BUFFER_SIZE = 1000"
   ]
  },
  {
   "cell_type": "code",
   "execution_count": 3,
   "metadata": {},
   "outputs": [],
   "source": [
    "from torch.utils.data import Dataset\n",
    "\n",
    "class MyDataset(Dataset):\n",
    "    def __init__(self, X, y):\n",
    "        self.X = torch.tensor(X).float()\n",
    "        self.y = []\n",
    "        for (actions, probs), v in y:\n",
    "            action_prob = torch.zeros((CHESSBOARD_SIZE, CHESSBOARD_SIZE)).float()\n",
    "            for i in range(len(actions)):\n",
    "                action_prob[actions[i]] = probs[i]\n",
    "            \n",
    "            self.y.append((action_prob, torch.tensor(v).float()))\n",
    "\n",
    "    def __getitem__(self, index):\n",
    "        return (self.X[index], self.y[index])\n",
    "\n",
    "    def __len__(self):\n",
    "        return self.X.shape[0]"
   ]
  },
  {
   "cell_type": "code",
   "execution_count": 4,
   "metadata": {},
   "outputs": [],
   "source": [
    "from torch.utils.data import DataLoader\n",
    "from d2l import torch as d2l\n",
    "\n",
    "def load_data(data, batch_size):\n",
    "    X, y = data['feature'], data['label']\n",
    "    train_dataset = MyDataset(X, y)\n",
    "    train_iter = DataLoader(dataset=train_dataset, batch_size=batch_size, shuffle=True)\n",
    "    return train_iter\n",
    "\n",
    "\n",
    "def train_epoch(net, train_iter, loss, updater):\n",
    "    net.train()\n",
    "\n",
    "    metric = d2l.Accumulator(2)\n",
    "    for X, y in train_iter:\n",
    "        y_hat = net(X)\n",
    "        l = loss(y_hat, y)\n",
    "        updater.zero_grad()\n",
    "        l.backward()\n",
    "        updater.step()\n",
    "        metric.add(float(l), y_hat[0].shape[0])\n",
    "\n",
    "\n",
    "    return metric[0] / metric[1]\n",
    "\n",
    "def train(net, train_iter, loss, num_epochs, updater):\n",
    "    # animator = d2l.Animator(xlabel='epoch', xlim=[1, num_epochs],ylim=[0.0, 4.0], legend=['train loss'])\n",
    "\n",
    "    loss_begin = None\n",
    "    for epoch in range(num_epochs):\n",
    "        train_loss = train_epoch(net, train_iter, loss, updater)\n",
    "        if(loss_begin is None):\n",
    "            loss_begin = train_loss\n",
    "        # animator.add(epoch+1, train_loss)\n",
    "    \n",
    "    return loss_begin, train_loss"
   ]
  },
  {
   "cell_type": "code",
   "execution_count": 5,
   "metadata": {},
   "outputs": [],
   "source": [
    "def policy_value_loss(y_hat, y):\n",
    "    policy_loss = F.cross_entropy(y_hat[0], y[0], size_average=False)\n",
    "    value_loss = F.mse_loss(y_hat[1], y[1], size_average=False)\n",
    "    return policy_loss+value_loss"
   ]
  },
  {
   "cell_type": "code",
   "execution_count": 6,
   "metadata": {},
   "outputs": [],
   "source": [
    "net = PolicyValueNet(CHESSBOARD_SIZE)\n",
    "mct = MCT(policy_value_fn=net)\n",
    "# updater = torch.optim.SGD(net.parameters(), lr=0.01)\n",
    "# updater = torch.optim.SGD(net.parameters(), lr=0.1, momentum=0.9, weight_decay=1e-3)\n",
    "# updater = torch.optim.Adam(net.parameters(), lr=0.01)"
   ]
  },
  {
   "cell_type": "code",
   "execution_count": 7,
   "metadata": {},
   "outputs": [],
   "source": [
    "# data = {'feature':[], 'label':[]}\n",
    "# for _ in range(10):\n",
    "#     root = Node(state_now=init_state(CHESSBOARD_SIZE))  \n",
    "#     mct.root = root\n",
    "\n",
    "#     features, labels = mct.self_play()\n",
    "#     data['feature'].extend(features)\n",
    "#     data['label'].extend(labels)"
   ]
  },
  {
   "cell_type": "code",
   "execution_count": 8,
   "metadata": {},
   "outputs": [],
   "source": [
    "# train_iter = load_data(data, 64)\n",
    "# updater = torch.optim.Adam(net.parameters(), lr=0.01)\n",
    "# loss_begin, loss_end = train(net, train_iter, policy_value_loss, 5, updater)"
   ]
  },
  {
   "cell_type": "code",
   "execution_count": 9,
   "metadata": {},
   "outputs": [
    {
     "name": "stderr",
     "output_type": "stream",
     "text": [
      "d:\\CodeConfiguration\\Anaconda3\\envs\\CS321\\lib\\site-packages\\torch\\nn\\modules\\container.py:204: UserWarning: Implicit dimension choice for softmax has been deprecated. Change the call to include dim=X as an argument.\n",
      "  input = module(input)\n"
     ]
    }
   ],
   "source": [
    "while(True):\n",
    "    data = {'feature':[], 'label':[]}\n",
    "    for _ in range(20):\n",
    "        root = Node(state_now=init_state(CHESSBOARD_SIZE))  \n",
    "        mct.root = root\n",
    "\n",
    "        features, labels = mct.self_play(300)\n",
    "        data['feature'].extend(features)\n",
    "        data['label'].extend(labels)\n",
    "\n",
    "    train_iter = load_data(data, 64)\n",
    "    # updater = torch.optim.Adam(net.parameters(), lr=0.05)\n",
    "    updater = torch.optim.SGD(net.parameters(), lr=0.01, momentum=0.9, weight_decay=1e-4)\n",
    "    loss_begin, loss_end = train(net, train_iter, policy_value_loss, 10, updater)\n",
    "    with open(\"loss.txt\",\"a\") as f:\n",
    "        f.write(str(loss_begin)+' '+str(loss_end)+'\\n')\n"
   ]
  }
 ],
 "metadata": {
  "kernelspec": {
   "display_name": "CS321",
   "language": "python",
   "name": "python3"
  },
  "language_info": {
   "codemirror_mode": {
    "name": "ipython",
    "version": 3
   },
   "file_extension": ".py",
   "mimetype": "text/x-python",
   "name": "python",
   "nbconvert_exporter": "python",
   "pygments_lexer": "ipython3",
   "version": "3.9.13"
  },
  "orig_nbformat": 4,
  "vscode": {
   "interpreter": {
    "hash": "798e7a250d91faa5167978c29dc4d749c5ae494daaa4d2a87c2da3edb2bb892e"
   }
  }
 },
 "nbformat": 4,
 "nbformat_minor": 2
}
