{
 "cells": [
  {
   "cell_type": "code",
   "execution_count": 1,
   "metadata": {},
   "outputs": [],
   "source": [
    "from game import get_candidate, check, go, init_game, COLOR_BLACK, COLOR_WHITE\n",
    "import numpy as np\n",
    "from tqdm import tqdm"
   ]
  },
  {
   "cell_type": "code",
   "execution_count": 2,
   "metadata": {},
   "outputs": [],
   "source": [
    "def compete(player_white, player_black, size=8):\n",
    "    chessboard = init_game(size)\n",
    "    player_now = COLOR_WHITE\n",
    "    while(True):\n",
    "        end, winner = check(chessboard)\n",
    "        if(end):\n",
    "            return winner\n",
    "        \n",
    "       \n",
    "        if(player_now==COLOR_BLACK):\n",
    "            action = player_black.go(chessboard)\n",
    "        else:\n",
    "            action = player_white.go(chessboard)\n",
    "        \n",
    "        chessboard = go(chessboard, action, player_now)\n",
    "        \n",
    "        player_now = COLOR_BLACK if player_now==COLOR_WHITE else COLOR_WHITE\n",
    "        # print(chessboard)\n",
    "        # print('white count:', np.sum(chessboard==COLOR_WHITE))\n",
    "        # print('black count:', np.sum(chessboard==COLOR_BLACK))\n",
    "        # print('now player:', 'black' if player_now==COLOR_BLACK else 'white')\n",
    "        # print('-------------')\n",
    "            \n",
    "        "
   ]
  },
  {
   "cell_type": "code",
   "execution_count": 3,
   "metadata": {},
   "outputs": [],
   "source": [
    "from Agent.MinMaxPlayer import AI as player1\n",
    "# from AlphaZeroOther import AI as player2\n",
    "from Agent.RandomPlayer import AI as player3\n",
    "from Agent.MCTSPlayer import AI as player4\n",
    "from Agent.GreedyPlayer import AI as player5\n",
    "import Agent.MCTSPlayer\n",
    "\n",
    "SIZE = 6\n",
    "\n",
    "player_white = player4(SIZE, COLOR_WHITE, simulate_num=100)\n",
    "# player_white = player5(SIZE, COLOR_WHITE)\n",
    "# player_white = player3(8, COLOR_WHITE, 3)\n",
    "# player_white = player1(8, COLOR_WHITE, 3)\n",
    "# player_black = player2(8, COLOR_BLACK, 3)\n",
    "player_black = player3(SIZE, COLOR_BLACK, 3)\n",
    "# player_black = player1(8, COLOR_BLACK, 3)\n",
    "# player_black = player5(SIZE, COLOR_BLACK)\n",
    "\n",
    "# player_white = player3(8, COLOR_WHITE, 3)\n",
    "# player_black = player4(8, COLOR_BLACK, 3)\n"
   ]
  },
  {
   "cell_type": "code",
   "execution_count": 4,
   "metadata": {},
   "outputs": [
    {
     "name": "stderr",
     "output_type": "stream",
     "text": [
      "  0%|          | 0/100 [00:00<?, ?it/s]d:\\CodeConfiguration\\Anaconda3\\envs\\CS321\\lib\\site-packages\\torch\\nn\\modules\\container.py:204: UserWarning: Implicit dimension choice for softmax has been deprecated. Change the call to include dim=X as an argument.\n",
      "  input = module(input)\n",
      " 13%|█▎        | 13/100 [01:02<06:58,  4.81s/it, black=5, white=8]\n"
     ]
    },
    {
     "ename": "KeyboardInterrupt",
     "evalue": "",
     "output_type": "error",
     "traceback": [
      "\u001b[1;31m---------------------------------------------------------------------------\u001b[0m",
      "\u001b[1;31mKeyboardInterrupt\u001b[0m                         Traceback (most recent call last)",
      "Cell \u001b[1;32mIn [4], line 10\u001b[0m\n\u001b[0;32m      7\u001b[0m \u001b[39mif\u001b[39;00m(\u001b[39misinstance\u001b[39m(player_black, MCTSPlayer\u001b[39m.\u001b[39mAI)):\n\u001b[0;32m      8\u001b[0m     player_black\u001b[39m.\u001b[39minit()\n\u001b[1;32m---> 10\u001b[0m winner \u001b[39m=\u001b[39m compete(player_white, player_black, SIZE)\n\u001b[0;32m     11\u001b[0m \u001b[39mif\u001b[39;00m(winner\u001b[39m==\u001b[39mCOLOR_BLACK):\n\u001b[0;32m     12\u001b[0m     black_cnt \u001b[39m+\u001b[39m\u001b[39m=\u001b[39m \u001b[39m1\u001b[39m\n",
      "Cell \u001b[1;32mIn [2], line 13\u001b[0m, in \u001b[0;36mcompete\u001b[1;34m(player_white, player_black, size)\u001b[0m\n\u001b[0;32m     11\u001b[0m     action \u001b[39m=\u001b[39m player_black\u001b[39m.\u001b[39mgo(chessboard)\n\u001b[0;32m     12\u001b[0m \u001b[39melse\u001b[39;00m:\n\u001b[1;32m---> 13\u001b[0m     action \u001b[39m=\u001b[39m player_white\u001b[39m.\u001b[39;49mgo(chessboard)\n\u001b[0;32m     15\u001b[0m chessboard \u001b[39m=\u001b[39m go(chessboard, action, player_now)\n\u001b[0;32m     17\u001b[0m player_now \u001b[39m=\u001b[39m COLOR_BLACK \u001b[39mif\u001b[39;00m player_now\u001b[39m==\u001b[39mCOLOR_WHITE \u001b[39melse\u001b[39;00m COLOR_WHITE\n",
      "File \u001b[1;32mc:\\Users\\Lemon\\Desktop\\AlphaZero\\MCTSPlayer.py:64\u001b[0m, in \u001b[0;36mAI.go\u001b[1;34m(self, chessboard)\u001b[0m\n\u001b[0;32m     61\u001b[0m \u001b[39mif\u001b[39;00m(\u001b[39mnot\u001b[39;00m game\u001b[39m.\u001b[39mget_candidate(chessboard, \u001b[39mself\u001b[39m\u001b[39m.\u001b[39mcolor)):\n\u001b[0;32m     62\u001b[0m     \u001b[39mreturn\u001b[39;00m \u001b[39mNone\u001b[39;00m\n\u001b[1;32m---> 64\u001b[0m \u001b[39mself\u001b[39;49m\u001b[39m.\u001b[39;49mmct\u001b[39m.\u001b[39;49msimulate(\u001b[39m100\u001b[39;49m)\n\u001b[0;32m     65\u001b[0m action \u001b[39m=\u001b[39m \u001b[39mself\u001b[39m\u001b[39m.\u001b[39mmct\u001b[39m.\u001b[39mplay()\n\u001b[0;32m     66\u001b[0m \u001b[39mreturn\u001b[39;00m action\n",
      "File \u001b[1;32mc:\\Users\\Lemon\\Desktop\\AlphaZero\\mcts.py:88\u001b[0m, in \u001b[0;36mMCT.simulate\u001b[1;34m(self, num)\u001b[0m\n\u001b[0;32m     86\u001b[0m end, winner \u001b[39m=\u001b[39m cur\u001b[39m.\u001b[39mcheck()\n\u001b[0;32m     87\u001b[0m \u001b[39mif\u001b[39;00m(\u001b[39mnot\u001b[39;00m end):\n\u001b[1;32m---> 88\u001b[0m     \u001b[39mself\u001b[39;49m\u001b[39m.\u001b[39;49mexpand(cur)\n\u001b[0;32m     89\u001b[0m     cur \u001b[39m=\u001b[39m \u001b[39mself\u001b[39m\u001b[39m.\u001b[39mselect(cur)\n\u001b[0;32m     91\u001b[0m \u001b[39mself\u001b[39m\u001b[39m.\u001b[39mbackup(cur)\n",
      "File \u001b[1;32mc:\\Users\\Lemon\\Desktop\\AlphaZero\\mcts.py:47\u001b[0m, in \u001b[0;36mMCT.expand\u001b[1;34m(self, n)\u001b[0m\n\u001b[0;32m     45\u001b[0m     n\u001b[39m.\u001b[39mstate_now \u001b[39m=\u001b[39m get_next_state(n\u001b[39m.\u001b[39mstate, n\u001b[39m.\u001b[39maction)\n\u001b[0;32m     46\u001b[0m actions \u001b[39m=\u001b[39m get_candidate(n\u001b[39m.\u001b[39mstate_now)\n\u001b[1;32m---> 47\u001b[0m probs \u001b[39m=\u001b[39m \u001b[39mself\u001b[39;49m\u001b[39m.\u001b[39;49mpolicy_value_fn(n\u001b[39m.\u001b[39;49mstate_now)[\u001b[39m0\u001b[39m]\n\u001b[0;32m     48\u001b[0m \u001b[39mif\u001b[39;00m(\u001b[39misinstance\u001b[39m(probs, torch\u001b[39m.\u001b[39mTensor)):\n\u001b[0;32m     49\u001b[0m     probs \u001b[39m=\u001b[39m probs\u001b[39m.\u001b[39mdetach()\u001b[39m.\u001b[39mnumpy()\n",
      "File \u001b[1;32mc:\\Users\\Lemon\\Desktop\\AlphaZero\\MCTSPlayer.py:21\u001b[0m, in \u001b[0;36mpolicy_value_fn\u001b[1;34m(state)\u001b[0m\n\u001b[0;32m     19\u001b[0m \u001b[39mdef\u001b[39;00m \u001b[39mpolicy_value_fn\u001b[39m(state):\n\u001b[0;32m     20\u001b[0m     \u001b[39mglobal\u001b[39;00m net\n\u001b[1;32m---> 21\u001b[0m     state_copy \u001b[39m=\u001b[39m torch\u001b[39m.\u001b[39;49mtensor(state)\u001b[39m.\u001b[39mfloat()\n\u001b[0;32m     22\u001b[0m     net(state_copy)\n\u001b[0;32m     23\u001b[0m     policy \u001b[39m=\u001b[39m torch\u001b[39m.\u001b[39mones((\u001b[39m8\u001b[39m, \u001b[39m8\u001b[39m))\n",
      "\u001b[1;31mKeyboardInterrupt\u001b[0m: "
     ]
    }
   ],
   "source": [
    "games = tqdm(range(100))\n",
    "\n",
    "white_cnt, black_cnt = 0, 0\n",
    "for game in enumerate(games):\n",
    "    if(isinstance(player_white, MCTSPlayer.AI)):\n",
    "        player_white.init()\n",
    "    if(isinstance(player_black, MCTSPlayer.AI)):\n",
    "        player_black.init()\n",
    "\n",
    "    winner = compete(player_white, player_black, SIZE)\n",
    "    if(winner==COLOR_BLACK):\n",
    "        black_cnt += 1\n",
    "        # print('Black win')\n",
    "    else:\n",
    "        white_cnt += 1\n",
    "        # print('White win')\n",
    "    games.set_postfix(white=white_cnt, black=black_cnt)\n",
    "\n",
    "print('Black win', black_cnt)\n",
    "print('White win', white_cnt)"
   ]
  }
 ],
 "metadata": {
  "kernelspec": {
   "display_name": "CS321",
   "language": "python",
   "name": "python3"
  },
  "language_info": {
   "codemirror_mode": {
    "name": "ipython",
    "version": 3
   },
   "file_extension": ".py",
   "mimetype": "text/x-python",
   "name": "python",
   "nbconvert_exporter": "python",
   "pygments_lexer": "ipython3",
   "version": "3.9.13 (main, Oct 13 2022, 21:23:06) [MSC v.1916 64 bit (AMD64)]"
  },
  "orig_nbformat": 4,
  "vscode": {
   "interpreter": {
    "hash": "798e7a250d91faa5167978c29dc4d749c5ae494daaa4d2a87c2da3edb2bb892e"
   }
  }
 },
 "nbformat": 4,
 "nbformat_minor": 2
}
