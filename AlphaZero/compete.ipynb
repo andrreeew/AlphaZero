{
 "cells": [
  {
   "cell_type": "code",
   "execution_count": 1,
   "metadata": {},
   "outputs": [],
   "source": [
    "from game import get_candidate, check, go, init_game, COLOR_BLACK, COLOR_WHITE\n",
    "import numpy as np\n",
    "from tqdm import tqdm"
   ]
  },
  {
   "cell_type": "code",
   "execution_count": 2,
   "metadata": {},
   "outputs": [],
   "source": [
    "def compete(player_white, player_black, size=8):\n",
    "    chessboard = init_game(size)\n",
    "    player_now = COLOR_WHITE\n",
    "    while(True):\n",
    "        end, winner = check(chessboard)\n",
    "        if(end):\n",
    "            return winner\n",
    "        \n",
    "       \n",
    "        if(player_now==COLOR_BLACK):\n",
    "            action = player_black.go(chessboard)\n",
    "        else:\n",
    "            action = player_white.go(chessboard)\n",
    "        \n",
    "        chessboard = go(chessboard, action, player_now)\n",
    "        \n",
    "        player_now = COLOR_BLACK if player_now==COLOR_WHITE else COLOR_WHITE\n",
    "        # print(chessboard)\n",
    "        # print('white count:', np.sum(chessboard==COLOR_WHITE))\n",
    "        # print('black count:', np.sum(chessboard==COLOR_BLACK))\n",
    "        # print('now player:', 'black' if player_now==COLOR_BLACK else 'white')\n",
    "        # print('-------------')\n",
    "            \n",
    "        "
   ]
  },
  {
   "cell_type": "code",
   "execution_count": 3,
   "metadata": {},
   "outputs": [],
   "source": [
    "from Agent.MinMaxPlayer import AI as player1\n",
    "# from AlphaZeroOther import AI as player2\n",
    "from Agent.RandomPlayer import AI as player3\n",
    "from Agent.MCTSPlayer import AI as player4\n",
    "from Agent.GreedyPlayer import AI as player5\n",
    "import Agent.MCTSPlayer\n",
    "\n",
    "SIZE = 6\n",
    "\n",
    "player_white = player4(SIZE, COLOR_WHITE, simulate_num=100, load_state=True)\n",
    "# player_white = player5(SIZE, COLOR_WHITE)\n",
    "# player_white = player3(8, COLOR_WHITE, 3)\n",
    "# player_white = player1(8, COLOR_WHITE, 3)\n",
    "# player_black = player2(8, COLOR_BLACK, 3)\n",
    "# player_black = player3(SIZE, COLOR_BLACK, 3)\n",
    "# player_black = player1(8, COLOR_BLACK, 3)\n",
    "player_black = player5(SIZE, COLOR_BLACK)\n",
    "\n",
    "# player_white = player3(8, COLOR_WHITE, 3)\n",
    "# player_black = player4(8, COLOR_BLACK, 3)\n"
   ]
  },
  {
   "cell_type": "code",
   "execution_count": 4,
   "metadata": {},
   "outputs": [
    {
     "name": "stderr",
     "output_type": "stream",
     "text": [
      "  0%|          | 0/100 [00:00<?, ?it/s]d:\\CodeConfiguration\\Anaconda3\\envs\\CS321\\lib\\site-packages\\torch\\nn\\modules\\container.py:204: UserWarning: Implicit dimension choice for softmax has been deprecated. Change the call to include dim=X as an argument.\n",
      "  input = module(input)\n",
      " 21%|██        | 21/100 [04:04<16:19, 12.39s/it, black=6, white=15]"
     ]
    }
   ],
   "source": [
    "games = tqdm(range(100))\n",
    "\n",
    "white_cnt, black_cnt = 0, 0\n",
    "for game in enumerate(games):\n",
    "    if(isinstance(player_white, Agent.MCTSPlayer.AI)):\n",
    "        player_white.init()\n",
    "    if(isinstance(player_black, Agent.MCTSPlayer.AI)):\n",
    "        player_black.init()\n",
    "\n",
    "    winner = compete(player_white, player_black, SIZE)\n",
    "    if(winner==COLOR_BLACK):\n",
    "        black_cnt += 1\n",
    "        # print('Black win')\n",
    "    else:\n",
    "        white_cnt += 1\n",
    "        # print('White win')\n",
    "    games.set_postfix(white=white_cnt, black=black_cnt)\n",
    "\n",
    "print('Black win', black_cnt)\n",
    "print('White win', white_cnt)"
   ]
  }
 ],
 "metadata": {
  "kernelspec": {
   "display_name": "CS321",
   "language": "python",
   "name": "python3"
  },
  "language_info": {
   "codemirror_mode": {
    "name": "ipython",
    "version": 3
   },
   "file_extension": ".py",
   "mimetype": "text/x-python",
   "name": "python",
   "nbconvert_exporter": "python",
   "pygments_lexer": "ipython3",
   "version": "3.9.13"
  },
  "orig_nbformat": 4,
  "vscode": {
   "interpreter": {
    "hash": "798e7a250d91faa5167978c29dc4d749c5ae494daaa4d2a87c2da3edb2bb892e"
   }
  }
 },
 "nbformat": 4,
 "nbformat_minor": 2
}
