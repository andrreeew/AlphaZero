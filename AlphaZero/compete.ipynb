{
 "cells": [
  {
   "cell_type": "code",
   "execution_count": 1,
   "metadata": {},
   "outputs": [],
   "source": [
    "from game import get_candidate, check, go, init_game, COLOR_BLACK, COLOR_WHITE\n",
    "import numpy as np\n",
    "from tqdm import tqdm"
   ]
  },
  {
   "cell_type": "code",
   "execution_count": 2,
   "metadata": {},
   "outputs": [],
   "source": [
    "def compete(player_white, player_black, size=8):\n",
    "    chessboard = init_game(size)\n",
    "    player_now = COLOR_WHITE\n",
    "    while(True):\n",
    "        end, winner = check(chessboard)\n",
    "        if(end):\n",
    "            return winner\n",
    "        \n",
    "       \n",
    "        if(player_now==COLOR_BLACK):\n",
    "            action = player_black.go(chessboard)\n",
    "        else:\n",
    "            action = player_white.go(chessboard)\n",
    "        \n",
    "        chessboard = go(chessboard, action, player_now)\n",
    "        \n",
    "        player_now = COLOR_BLACK if player_now==COLOR_WHITE else COLOR_WHITE\n",
    "        # print(chessboard)\n",
    "        # print('white count:', np.sum(chessboard==COLOR_WHITE))\n",
    "        # print('black count:', np.sum(chessboard==COLOR_BLACK))\n",
    "        # print('now player:', 'black' if player_now==COLOR_BLACK else 'white')\n",
    "        # print('-------------')\n",
    "            \n",
    "        "
   ]
  },
  {
   "cell_type": "code",
   "execution_count": 3,
   "metadata": {},
   "outputs": [],
   "source": [
    "from Agent.MinMaxPlayer import AI as player1\n",
    "# from AlphaZeroOther import AI as player2\n",
    "from Agent.RandomPlayer import AI as player3\n",
    "from Agent.MCTSPlayer import AI as player4\n",
    "from Agent.GreedyPlayer import AI as player5\n",
    "import Agent.MCTSPlayer\n",
    "\n",
    "SIZE = 6\n",
    "\n",
    "player_white = player4(SIZE, COLOR_WHITE, simulate_num=300)\n",
    "# player_white = player5(SIZE, COLOR_WHITE)\n",
    "# player_white = player3(8, COLOR_WHITE, 3)\n",
    "# player_white = player1(8, COLOR_WHITE, 3)\n",
    "# player_black = player2(8, COLOR_BLACK, 3)\n",
    "# player_black = player3(SIZE, COLOR_BLACK, 3)\n",
    "# player_black = player1(8, COLOR_BLACK, 3)\n",
    "player_black = player5(SIZE, COLOR_BLACK)\n",
    "\n",
    "# player_white = player3(8, COLOR_WHITE, 3)\n",
    "# player_black = player4(8, COLOR_BLACK, 3)\n"
   ]
  },
  {
   "cell_type": "code",
   "execution_count": 4,
   "metadata": {},
   "outputs": [
    {
     "name": "stderr",
     "output_type": "stream",
     "text": [
      "  0%|          | 0/100 [00:00<?, ?it/s]d:\\CodeConfiguration\\Anaconda3\\envs\\CS321\\lib\\site-packages\\torch\\nn\\modules\\container.py:204: UserWarning: Implicit dimension choice for softmax has been deprecated. Change the call to include dim=X as an argument.\n",
      "  input = module(input)\n",
      "  1%|          | 1/100 [00:14<24:08, 14.63s/it, black=0, white=1]\n"
     ]
    },
    {
     "ename": "KeyboardInterrupt",
     "evalue": "",
     "output_type": "error",
     "traceback": [
      "\u001b[1;31m---------------------------------------------------------------------------\u001b[0m",
      "\u001b[1;31mKeyboardInterrupt\u001b[0m                         Traceback (most recent call last)",
      "Cell \u001b[1;32mIn [4], line 10\u001b[0m\n\u001b[0;32m      7\u001b[0m \u001b[39mif\u001b[39;00m(\u001b[39misinstance\u001b[39m(player_black, Agent\u001b[39m.\u001b[39mMCTSPlayer\u001b[39m.\u001b[39mAI)):\n\u001b[0;32m      8\u001b[0m     player_black\u001b[39m.\u001b[39minit()\n\u001b[1;32m---> 10\u001b[0m winner \u001b[39m=\u001b[39m compete(player_white, player_black, SIZE)\n\u001b[0;32m     11\u001b[0m \u001b[39mif\u001b[39;00m(winner\u001b[39m==\u001b[39mCOLOR_BLACK):\n\u001b[0;32m     12\u001b[0m     black_cnt \u001b[39m+\u001b[39m\u001b[39m=\u001b[39m \u001b[39m1\u001b[39m\n",
      "Cell \u001b[1;32mIn [2], line 13\u001b[0m, in \u001b[0;36mcompete\u001b[1;34m(player_white, player_black, size)\u001b[0m\n\u001b[0;32m     11\u001b[0m     action \u001b[39m=\u001b[39m player_black\u001b[39m.\u001b[39mgo(chessboard)\n\u001b[0;32m     12\u001b[0m \u001b[39melse\u001b[39;00m:\n\u001b[1;32m---> 13\u001b[0m     action \u001b[39m=\u001b[39m player_white\u001b[39m.\u001b[39;49mgo(chessboard)\n\u001b[0;32m     15\u001b[0m chessboard \u001b[39m=\u001b[39m go(chessboard, action, player_now)\n\u001b[0;32m     17\u001b[0m player_now \u001b[39m=\u001b[39m COLOR_BLACK \u001b[39mif\u001b[39;00m player_now\u001b[39m==\u001b[39mCOLOR_WHITE \u001b[39melse\u001b[39;00m COLOR_WHITE\n",
      "File \u001b[1;32mc:\\Users\\Lemon\\Desktop\\AlphaZero\\Agent\\MCTSPlayer.py:54\u001b[0m, in \u001b[0;36mAI.go\u001b[1;34m(self, chessboard)\u001b[0m\n\u001b[0;32m     51\u001b[0m \u001b[39mif\u001b[39;00m(\u001b[39mnot\u001b[39;00m game\u001b[39m.\u001b[39mget_candidate(chessboard, \u001b[39mself\u001b[39m\u001b[39m.\u001b[39mcolor)):\n\u001b[0;32m     52\u001b[0m     \u001b[39mreturn\u001b[39;00m \u001b[39mNone\u001b[39;00m\n\u001b[1;32m---> 54\u001b[0m \u001b[39mself\u001b[39;49m\u001b[39m.\u001b[39;49mmct\u001b[39m.\u001b[39;49msimulate(\u001b[39mself\u001b[39;49m\u001b[39m.\u001b[39;49msimulate_num)\n\u001b[0;32m     55\u001b[0m action \u001b[39m=\u001b[39m \u001b[39mself\u001b[39m\u001b[39m.\u001b[39mmct\u001b[39m.\u001b[39mplay()\n\u001b[0;32m     56\u001b[0m \u001b[39mreturn\u001b[39;00m action\n",
      "File \u001b[1;32mc:\\Users\\Lemon\\Desktop\\AlphaZero\\mcts.py:95\u001b[0m, in \u001b[0;36mMCT.simulate\u001b[1;34m(self, num)\u001b[0m\n\u001b[0;32m     92\u001b[0m     \u001b[39mself\u001b[39m\u001b[39m.\u001b[39mexpand(cur)\n\u001b[0;32m     93\u001b[0m     cur \u001b[39m=\u001b[39m \u001b[39mself\u001b[39m\u001b[39m.\u001b[39mselect(cur)\n\u001b[1;32m---> 95\u001b[0m \u001b[39mself\u001b[39;49m\u001b[39m.\u001b[39;49mbackup(cur)\n",
      "File \u001b[1;32mc:\\Users\\Lemon\\Desktop\\AlphaZero\\mcts.py:62\u001b[0m, in \u001b[0;36mMCT.backup\u001b[1;34m(self, n)\u001b[0m\n\u001b[0;32m     60\u001b[0m player \u001b[39m=\u001b[39m get_player(n\u001b[39m.\u001b[39mstate_now)\n\u001b[0;32m     61\u001b[0m \u001b[39mif\u001b[39;00m(\u001b[39misinstance\u001b[39m(\u001b[39mself\u001b[39m\u001b[39m.\u001b[39mpolicy_value_fn, nn\u001b[39m.\u001b[39mModule)):\n\u001b[1;32m---> 62\u001b[0m     v \u001b[39m=\u001b[39m \u001b[39mself\u001b[39;49m\u001b[39m.\u001b[39;49mpolicy_value_fn(torch\u001b[39m.\u001b[39;49mtensor(n\u001b[39m.\u001b[39;49mstate_now)\u001b[39m.\u001b[39;49mfloat())[\u001b[39m1\u001b[39m]\u001b[39m.\u001b[39mdetach()\u001b[39m.\u001b[39mnumpy()\n\u001b[0;32m     63\u001b[0m \u001b[39melse\u001b[39;00m:\n\u001b[0;32m     64\u001b[0m     v \u001b[39m=\u001b[39m \u001b[39mself\u001b[39m\u001b[39m.\u001b[39mpolicy_value_fn(n\u001b[39m.\u001b[39mstate_now)[\u001b[39m1\u001b[39m]\n",
      "File \u001b[1;32md:\\CodeConfiguration\\Anaconda3\\envs\\CS321\\lib\\site-packages\\torch\\nn\\modules\\module.py:1190\u001b[0m, in \u001b[0;36mModule._call_impl\u001b[1;34m(self, *input, **kwargs)\u001b[0m\n\u001b[0;32m   1186\u001b[0m \u001b[39m# If we don't have any hooks, we want to skip the rest of the logic in\u001b[39;00m\n\u001b[0;32m   1187\u001b[0m \u001b[39m# this function, and just call forward.\u001b[39;00m\n\u001b[0;32m   1188\u001b[0m \u001b[39mif\u001b[39;00m \u001b[39mnot\u001b[39;00m (\u001b[39mself\u001b[39m\u001b[39m.\u001b[39m_backward_hooks \u001b[39mor\u001b[39;00m \u001b[39mself\u001b[39m\u001b[39m.\u001b[39m_forward_hooks \u001b[39mor\u001b[39;00m \u001b[39mself\u001b[39m\u001b[39m.\u001b[39m_forward_pre_hooks \u001b[39mor\u001b[39;00m _global_backward_hooks\n\u001b[0;32m   1189\u001b[0m         \u001b[39mor\u001b[39;00m _global_forward_hooks \u001b[39mor\u001b[39;00m _global_forward_pre_hooks):\n\u001b[1;32m-> 1190\u001b[0m     \u001b[39mreturn\u001b[39;00m forward_call(\u001b[39m*\u001b[39m\u001b[39minput\u001b[39m, \u001b[39m*\u001b[39m\u001b[39m*\u001b[39mkwargs)\n\u001b[0;32m   1191\u001b[0m \u001b[39m# Do not call functions when jit is used\u001b[39;00m\n\u001b[0;32m   1192\u001b[0m full_backward_hooks, non_full_backward_hooks \u001b[39m=\u001b[39m [], []\n",
      "File \u001b[1;32mc:\\Users\\Lemon\\Desktop\\AlphaZero\\net.py:39\u001b[0m, in \u001b[0;36mPolicyValueNet.forward\u001b[1;34m(self, X)\u001b[0m\n\u001b[0;32m     38\u001b[0m \u001b[39mdef\u001b[39;00m \u001b[39mforward\u001b[39m(\u001b[39mself\u001b[39m, X):\n\u001b[1;32m---> 39\u001b[0m     x \u001b[39m=\u001b[39m \u001b[39mself\u001b[39;49m\u001b[39m.\u001b[39;49mconv_layer(X)\n\u001b[0;32m     40\u001b[0m     policy \u001b[39m=\u001b[39m \u001b[39mself\u001b[39m\u001b[39m.\u001b[39mpolicy_layer(x)\u001b[39m.\u001b[39msqueeze()\u001b[39m.\u001b[39mreshape(\u001b[39m-\u001b[39m\u001b[39m1\u001b[39m, \u001b[39mself\u001b[39m\u001b[39m.\u001b[39msize, \u001b[39mself\u001b[39m\u001b[39m.\u001b[39msize)\u001b[39m.\u001b[39msqueeze()\n\u001b[0;32m     41\u001b[0m     value \u001b[39m=\u001b[39m \u001b[39mself\u001b[39m\u001b[39m.\u001b[39mvalue_layer(x)\u001b[39m.\u001b[39msqueeze()\n",
      "File \u001b[1;32md:\\CodeConfiguration\\Anaconda3\\envs\\CS321\\lib\\site-packages\\torch\\nn\\modules\\module.py:1190\u001b[0m, in \u001b[0;36mModule._call_impl\u001b[1;34m(self, *input, **kwargs)\u001b[0m\n\u001b[0;32m   1186\u001b[0m \u001b[39m# If we don't have any hooks, we want to skip the rest of the logic in\u001b[39;00m\n\u001b[0;32m   1187\u001b[0m \u001b[39m# this function, and just call forward.\u001b[39;00m\n\u001b[0;32m   1188\u001b[0m \u001b[39mif\u001b[39;00m \u001b[39mnot\u001b[39;00m (\u001b[39mself\u001b[39m\u001b[39m.\u001b[39m_backward_hooks \u001b[39mor\u001b[39;00m \u001b[39mself\u001b[39m\u001b[39m.\u001b[39m_forward_hooks \u001b[39mor\u001b[39;00m \u001b[39mself\u001b[39m\u001b[39m.\u001b[39m_forward_pre_hooks \u001b[39mor\u001b[39;00m _global_backward_hooks\n\u001b[0;32m   1189\u001b[0m         \u001b[39mor\u001b[39;00m _global_forward_hooks \u001b[39mor\u001b[39;00m _global_forward_pre_hooks):\n\u001b[1;32m-> 1190\u001b[0m     \u001b[39mreturn\u001b[39;00m forward_call(\u001b[39m*\u001b[39m\u001b[39minput\u001b[39m, \u001b[39m*\u001b[39m\u001b[39m*\u001b[39mkwargs)\n\u001b[0;32m   1191\u001b[0m \u001b[39m# Do not call functions when jit is used\u001b[39;00m\n\u001b[0;32m   1192\u001b[0m full_backward_hooks, non_full_backward_hooks \u001b[39m=\u001b[39m [], []\n",
      "File \u001b[1;32md:\\CodeConfiguration\\Anaconda3\\envs\\CS321\\lib\\site-packages\\torch\\nn\\modules\\container.py:204\u001b[0m, in \u001b[0;36mSequential.forward\u001b[1;34m(self, input)\u001b[0m\n\u001b[0;32m    202\u001b[0m \u001b[39mdef\u001b[39;00m \u001b[39mforward\u001b[39m(\u001b[39mself\u001b[39m, \u001b[39minput\u001b[39m):\n\u001b[0;32m    203\u001b[0m     \u001b[39mfor\u001b[39;00m module \u001b[39min\u001b[39;00m \u001b[39mself\u001b[39m:\n\u001b[1;32m--> 204\u001b[0m         \u001b[39minput\u001b[39m \u001b[39m=\u001b[39m module(\u001b[39minput\u001b[39;49m)\n\u001b[0;32m    205\u001b[0m     \u001b[39mreturn\u001b[39;00m \u001b[39minput\u001b[39m\n",
      "File \u001b[1;32md:\\CodeConfiguration\\Anaconda3\\envs\\CS321\\lib\\site-packages\\torch\\nn\\modules\\module.py:1190\u001b[0m, in \u001b[0;36mModule._call_impl\u001b[1;34m(self, *input, **kwargs)\u001b[0m\n\u001b[0;32m   1186\u001b[0m \u001b[39m# If we don't have any hooks, we want to skip the rest of the logic in\u001b[39;00m\n\u001b[0;32m   1187\u001b[0m \u001b[39m# this function, and just call forward.\u001b[39;00m\n\u001b[0;32m   1188\u001b[0m \u001b[39mif\u001b[39;00m \u001b[39mnot\u001b[39;00m (\u001b[39mself\u001b[39m\u001b[39m.\u001b[39m_backward_hooks \u001b[39mor\u001b[39;00m \u001b[39mself\u001b[39m\u001b[39m.\u001b[39m_forward_hooks \u001b[39mor\u001b[39;00m \u001b[39mself\u001b[39m\u001b[39m.\u001b[39m_forward_pre_hooks \u001b[39mor\u001b[39;00m _global_backward_hooks\n\u001b[0;32m   1189\u001b[0m         \u001b[39mor\u001b[39;00m _global_forward_hooks \u001b[39mor\u001b[39;00m _global_forward_pre_hooks):\n\u001b[1;32m-> 1190\u001b[0m     \u001b[39mreturn\u001b[39;00m forward_call(\u001b[39m*\u001b[39m\u001b[39minput\u001b[39m, \u001b[39m*\u001b[39m\u001b[39m*\u001b[39mkwargs)\n\u001b[0;32m   1191\u001b[0m \u001b[39m# Do not call functions when jit is used\u001b[39;00m\n\u001b[0;32m   1192\u001b[0m full_backward_hooks, non_full_backward_hooks \u001b[39m=\u001b[39m [], []\n",
      "File \u001b[1;32md:\\CodeConfiguration\\Anaconda3\\envs\\CS321\\lib\\site-packages\\torch\\nn\\modules\\conv.py:463\u001b[0m, in \u001b[0;36mConv2d.forward\u001b[1;34m(self, input)\u001b[0m\n\u001b[0;32m    462\u001b[0m \u001b[39mdef\u001b[39;00m \u001b[39mforward\u001b[39m(\u001b[39mself\u001b[39m, \u001b[39minput\u001b[39m: Tensor) \u001b[39m-\u001b[39m\u001b[39m>\u001b[39m Tensor:\n\u001b[1;32m--> 463\u001b[0m     \u001b[39mreturn\u001b[39;00m \u001b[39mself\u001b[39;49m\u001b[39m.\u001b[39;49m_conv_forward(\u001b[39minput\u001b[39;49m, \u001b[39mself\u001b[39;49m\u001b[39m.\u001b[39;49mweight, \u001b[39mself\u001b[39;49m\u001b[39m.\u001b[39;49mbias)\n",
      "File \u001b[1;32md:\\CodeConfiguration\\Anaconda3\\envs\\CS321\\lib\\site-packages\\torch\\nn\\modules\\conv.py:459\u001b[0m, in \u001b[0;36mConv2d._conv_forward\u001b[1;34m(self, input, weight, bias)\u001b[0m\n\u001b[0;32m    455\u001b[0m \u001b[39mif\u001b[39;00m \u001b[39mself\u001b[39m\u001b[39m.\u001b[39mpadding_mode \u001b[39m!=\u001b[39m \u001b[39m'\u001b[39m\u001b[39mzeros\u001b[39m\u001b[39m'\u001b[39m:\n\u001b[0;32m    456\u001b[0m     \u001b[39mreturn\u001b[39;00m F\u001b[39m.\u001b[39mconv2d(F\u001b[39m.\u001b[39mpad(\u001b[39minput\u001b[39m, \u001b[39mself\u001b[39m\u001b[39m.\u001b[39m_reversed_padding_repeated_twice, mode\u001b[39m=\u001b[39m\u001b[39mself\u001b[39m\u001b[39m.\u001b[39mpadding_mode),\n\u001b[0;32m    457\u001b[0m                     weight, bias, \u001b[39mself\u001b[39m\u001b[39m.\u001b[39mstride,\n\u001b[0;32m    458\u001b[0m                     _pair(\u001b[39m0\u001b[39m), \u001b[39mself\u001b[39m\u001b[39m.\u001b[39mdilation, \u001b[39mself\u001b[39m\u001b[39m.\u001b[39mgroups)\n\u001b[1;32m--> 459\u001b[0m \u001b[39mreturn\u001b[39;00m F\u001b[39m.\u001b[39;49mconv2d(\u001b[39minput\u001b[39;49m, weight, bias, \u001b[39mself\u001b[39;49m\u001b[39m.\u001b[39;49mstride,\n\u001b[0;32m    460\u001b[0m                 \u001b[39mself\u001b[39;49m\u001b[39m.\u001b[39;49mpadding, \u001b[39mself\u001b[39;49m\u001b[39m.\u001b[39;49mdilation, \u001b[39mself\u001b[39;49m\u001b[39m.\u001b[39;49mgroups)\n",
      "\u001b[1;31mKeyboardInterrupt\u001b[0m: "
     ]
    }
   ],
   "source": [
    "games = tqdm(range(100))\n",
    "\n",
    "white_cnt, black_cnt = 0, 0\n",
    "for game in enumerate(games):\n",
    "    if(isinstance(player_white, Agent.MCTSPlayer.AI)):\n",
    "        player_white.init()\n",
    "    if(isinstance(player_black, Agent.MCTSPlayer.AI)):\n",
    "        player_black.init()\n",
    "\n",
    "    winner = compete(player_white, player_black, SIZE)\n",
    "    if(winner==COLOR_BLACK):\n",
    "        black_cnt += 1\n",
    "        # print('Black win')\n",
    "    else:\n",
    "        white_cnt += 1\n",
    "        # print('White win')\n",
    "    games.set_postfix(white=white_cnt, black=black_cnt)\n",
    "\n",
    "print('Black win', black_cnt)\n",
    "print('White win', white_cnt)"
   ]
  }
 ],
 "metadata": {
  "kernelspec": {
   "display_name": "CS321",
   "language": "python",
   "name": "python3"
  },
  "language_info": {
   "codemirror_mode": {
    "name": "ipython",
    "version": 3
   },
   "file_extension": ".py",
   "mimetype": "text/x-python",
   "name": "python",
   "nbconvert_exporter": "python",
   "pygments_lexer": "ipython3",
   "version": "3.9.13"
  },
  "orig_nbformat": 4,
  "vscode": {
   "interpreter": {
    "hash": "798e7a250d91faa5167978c29dc4d749c5ae494daaa4d2a87c2da3edb2bb892e"
   }
  }
 },
 "nbformat": 4,
 "nbformat_minor": 2
}
