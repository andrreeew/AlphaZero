{
 "cells": [
  {
   "cell_type": "code",
   "execution_count": 1,
   "metadata": {},
   "outputs": [],
   "source": [
    "from game import get_candidate, check, go, init_game, COLOR_BLACK, COLOR_WHITE\n",
    "import numpy as np"
   ]
  },
  {
   "cell_type": "code",
   "execution_count": 2,
   "metadata": {},
   "outputs": [],
   "source": [
    "def compete(player_white, player_black, size=8):\n",
    "    chessboard = init_game(size)\n",
    "    player_now = COLOR_WHITE\n",
    "    while(True):\n",
    "        end, winner = check(chessboard)\n",
    "        if(end):\n",
    "            return winner\n",
    "        \n",
    "       \n",
    "        if(player_now==COLOR_BLACK):\n",
    "            action = player_black.go(chessboard)\n",
    "        else:\n",
    "            action = player_white.go(chessboard)\n",
    "        \n",
    "        chessboard = go(chessboard, action, player_now)\n",
    "        \n",
    "        player_now = COLOR_BLACK if player_now==COLOR_WHITE else COLOR_WHITE\n",
    "        # print(chessboard)\n",
    "        # print('white count:', np.sum(chessboard==COLOR_WHITE))\n",
    "        # print('black count:', np.sum(chessboard==COLOR_BLACK))\n",
    "        # print('now player:', 'black' if player_now==COLOR_BLACK else 'white')\n",
    "        # print('-------------')\n",
    "            \n",
    "        "
   ]
  },
  {
   "cell_type": "code",
   "execution_count": 3,
   "metadata": {},
   "outputs": [],
   "source": [
    "from MinMaxPlayer import AI as player1\n",
    "# from AlphaZeroOther import AI as player2\n",
    "from RandomPlayer import AI as player3\n",
    "from MCTSPlayer import AI as player4\n",
    "\n",
    "player_white = player4(8, COLOR_WHITE, 3)\n",
    "# player_white = player3(8, COLOR_WHITE, 3)\n",
    "# player_white = player1(8, COLOR_WHITE, 3)\n",
    "# player_black = player2(8, COLOR_BLACK, 3)\n",
    "# player_black = player3(8, COLOR_BLACK, 3)\n",
    "player_black = player1(8, COLOR_BLACK, 3)\n",
    "\n",
    "# player_white = player3(8, COLOR_WHITE, 3)\n",
    "# player_black = player4(8, COLOR_BLACK, 3)\n"
   ]
  },
  {
   "cell_type": "code",
   "execution_count": 4,
   "metadata": {},
   "outputs": [],
   "source": [
    "white_cnt, black_cnt = 0, 0\n",
    "for _ in range(100):\n",
    "    player_white.init()\n",
    "    # player_black.init()\n",
    "    winner = compete(player_white, player_black, 4)\n",
    "    if(winner==COLOR_BLACK):\n",
    "        black_cnt += 1\n",
    "        # print('Black win')\n",
    "    else:\n",
    "        white_cnt += 1\n",
    "        # print('White win')\n",
    "\n",
    "print('Black win', black_cnt)\n",
    "print('White win', white_cnt)"
   ]
  }
 ],
 "metadata": {
  "kernelspec": {
   "display_name": "Python 3",
   "language": "python",
   "name": "python3"
  },
  "language_info": {
   "codemirror_mode": {
    "name": "ipython",
    "version": 3
   },
   "file_extension": ".py",
   "mimetype": "text/x-python",
   "name": "python",
   "nbconvert_exporter": "python",
   "pygments_lexer": "ipython3",
   "version": "3.9.13"
  },
  "orig_nbformat": 4,
  "vscode": {
   "interpreter": {
    "hash": "230f2065afb122e42e1cf0aed0b040bef8cc8c39bf6bdfb079a509911b024860"
   }
  }
 },
 "nbformat": 4,
 "nbformat_minor": 2
}
